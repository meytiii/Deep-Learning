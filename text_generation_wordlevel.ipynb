{
 "cells": [
  {
   "cell_type": "code",
   "execution_count": 27,
   "id": "c31cda01-b424-4339-b811-ad91e6080ed6",
   "metadata": {},
   "outputs": [
    {
     "ename": "ModuleNotFoundError",
     "evalue": "No module named 'keras.preprocessing.text'",
     "output_type": "error",
     "traceback": [
      "\u001b[1;31m---------------------------------------------------------------------------\u001b[0m",
      "\u001b[1;31mModuleNotFoundError\u001b[0m                       Traceback (most recent call last)",
      "Cell \u001b[1;32mIn[27], line 7\u001b[0m\n\u001b[0;32m      5\u001b[0m \u001b[38;5;28;01mimport\u001b[39;00m \u001b[38;5;21;01mpandas\u001b[39;00m \u001b[38;5;28;01mas\u001b[39;00m \u001b[38;5;21;01mpd\u001b[39;00m\n\u001b[0;32m      6\u001b[0m \u001b[38;5;28;01mfrom\u001b[39;00m \u001b[38;5;21;01mtensorflow\u001b[39;00m \u001b[38;5;28;01mimport\u001b[39;00m keras\n\u001b[1;32m----> 7\u001b[0m \u001b[38;5;28;01mfrom\u001b[39;00m \u001b[38;5;21;01mkeras\u001b[39;00m\u001b[38;5;21;01m.\u001b[39;00m\u001b[38;5;21;01mpreprocessing\u001b[39;00m\u001b[38;5;21;01m.\u001b[39;00m\u001b[38;5;21;01mtext\u001b[39;00m \u001b[38;5;28;01mimport\u001b[39;00m Tokenizer\n\u001b[0;32m      8\u001b[0m \u001b[38;5;28;01mimport\u001b[39;00m \u001b[38;5;21;01mos\u001b[39;00m\n",
      "\u001b[1;31mModuleNotFoundError\u001b[0m: No module named 'keras.preprocessing.text'"
     ]
    }
   ],
   "source": [
    "import tensorflow as tf\n",
    "import numpy as np\n",
    "import os\n",
    "import time\n",
    "import pandas as pd\n",
    "from tensorflow import keras\n",
    "from keras.preprocessing.text import Tokenizer\n",
    "import os"
   ]
  },
  {
   "cell_type": "code",
   "execution_count": 13,
   "id": "a4cdb00e-bdb8-49df-9866-d0fb48e13da2",
   "metadata": {},
   "outputs": [
    {
     "data": {
      "text/html": [
       "<div>\n",
       "<style scoped>\n",
       "    .dataframe tbody tr th:only-of-type {\n",
       "        vertical-align: middle;\n",
       "    }\n",
       "\n",
       "    .dataframe tbody tr th {\n",
       "        vertical-align: top;\n",
       "    }\n",
       "\n",
       "    .dataframe thead th {\n",
       "        text-align: right;\n",
       "    }\n",
       "</style>\n",
       "<table border=\"1\" class=\"dataframe\">\n",
       "  <thead>\n",
       "    <tr style=\"text-align: right;\">\n",
       "      <th></th>\n",
       "      <th>Chapter</th>\n",
       "      <th>Part</th>\n",
       "      <th>Bait</th>\n",
       "      <th>Mesra</th>\n",
       "      <th>Text</th>\n",
       "    </tr>\n",
       "  </thead>\n",
       "  <tbody>\n",
       "    <tr>\n",
       "      <th>0</th>\n",
       "      <td>1</td>\n",
       "      <td>1</td>\n",
       "      <td>1</td>\n",
       "      <td>1</td>\n",
       "      <td>به نام خداوند جان و خرد</td>\n",
       "    </tr>\n",
       "    <tr>\n",
       "      <th>1</th>\n",
       "      <td>1</td>\n",
       "      <td>1</td>\n",
       "      <td>1</td>\n",
       "      <td>2</td>\n",
       "      <td>کز این برتر اندیشه بر نگذرد</td>\n",
       "    </tr>\n",
       "    <tr>\n",
       "      <th>2</th>\n",
       "      <td>1</td>\n",
       "      <td>1</td>\n",
       "      <td>2</td>\n",
       "      <td>1</td>\n",
       "      <td>خداوند نام و خداوند جای</td>\n",
       "    </tr>\n",
       "    <tr>\n",
       "      <th>3</th>\n",
       "      <td>1</td>\n",
       "      <td>1</td>\n",
       "      <td>2</td>\n",
       "      <td>2</td>\n",
       "      <td>خداوند روزی ده رهنمای</td>\n",
       "    </tr>\n",
       "    <tr>\n",
       "      <th>4</th>\n",
       "      <td>1</td>\n",
       "      <td>1</td>\n",
       "      <td>3</td>\n",
       "      <td>1</td>\n",
       "      <td>خداوند کیوان و گَردان سپهر</td>\n",
       "    </tr>\n",
       "  </tbody>\n",
       "</table>\n",
       "</div>"
      ],
      "text/plain": [
       "   Chapter  Part  Bait  Mesra                         Text\n",
       "0        1     1     1      1      به نام خداوند جان و خرد\n",
       "1        1     1     1      2  کز این برتر اندیشه بر نگذرد\n",
       "2        1     1     2      1      خداوند نام و خداوند جای\n",
       "3        1     1     2      2        خداوند روزی ده رهنمای\n",
       "4        1     1     3      1   خداوند کیوان و گَردان سپهر"
      ]
     },
     "execution_count": 13,
     "metadata": {},
     "output_type": "execute_result"
    }
   ],
   "source": [
    "df = pd.read_csv('shahname.csv')\n",
    "df.head()"
   ]
  },
  {
   "cell_type": "code",
   "execution_count": 14,
   "id": "63f314d9-80bf-453e-85ab-355ebc9e4712",
   "metadata": {},
   "outputs": [
    {
     "name": "stdout",
     "output_type": "stream",
     "text": [
      "به نام خداوند جان و خرد\n",
      "کز این برتر اندیشه بر نگذرد\n",
      "خداوند نام و خداوند جای\n",
      "خداوند روزی ده رهنمای\n",
      "خداوند کیوان و گَردان سپهر\n",
      "فروزندهٔ ماه و ناهید و مهر\n",
      "ز نام و نشان و گمان برتر است\n",
      "نگارندهٔ بر شده پیکر است\n",
      "به بینندگان آفریننده را\n",
      "نبینی مرنجان دو بینن\n"
     ]
    }
   ],
   "source": [
    "text = '\\n'.join(df['Text'])\n",
    "print(text[:250])"
   ]
  },
  {
   "cell_type": "code",
   "execution_count": 16,
   "id": "bf956e27-6eff-4712-8373-75bad2e6a2e2",
   "metadata": {},
   "outputs": [
    {
     "name": "stdout",
     "output_type": "stream",
     "text": [
      "['به', 'نام', 'خداوند', 'جان', 'و', 'خرد', 'کز', 'این', 'برتر', 'اندیشه', 'بر', 'نگذرد', 'خداوند', 'نام', 'و', 'خداوند', 'جای', 'خداوند', 'روزی', 'ده', 'رهنمای', 'خداوند', 'کیوان', 'و', 'گَردان', 'سپهر', 'فروزندهٔ', 'ماه', 'و', 'ناهید', 'و', 'مهر', 'ز', 'نام', 'و', 'نشان', 'و', 'گمان', 'برتر', 'است', 'نگارندهٔ', 'بر', 'شده', 'پیکر', 'است', 'به', 'بینندگان', 'آفریننده', 'را', 'نبینی', 'مرنجان', 'دو', 'بیننده', 'را', 'نیابد', 'بدو', 'نیز', 'اندیشه', 'راه', 'که', 'او', 'برتر', 'از', 'نام', 'و', 'از', 'جایگاه', 'سخن', 'هر', 'چه', 'زین', 'گوهران', 'بگذرد', 'نیابد', 'بدو', 'راه', 'جان', 'و', 'خرد', 'خرد', 'گر', 'سخن', 'برگزیند', 'همی', 'همان', 'را', 'گزیند،', 'که', 'بیند', 'همی', 'ستودن', 'نداند', 'کس،', 'او', 'را', 'چو', 'هست', 'میان', 'بندگی', 'را', 'ببایدت', 'بست', 'خرد', 'را', 'و', 'جان', 'را', 'همی', 'سنجد', 'اوی', 'در', 'اندیشهٔ', 'سخته', 'کی', 'گنجد', 'اوی', 'بدین', 'آلت', 'رای', 'و', 'جان', 'و', 'زبان', 'ستود', 'آفریننده', 'را', 'کی', 'توان', 'به', 'هستیش', 'باید', 'که', 'خستو', 'شوی', 'ز', 'گفتار', 'بی\\u200cکار', 'یک\\u200cسو', 'شوی', 'پرستنده', 'باشی', 'و', 'جوینده', 'راه', 'به', 'ژرفی', 'به', 'فرمانش', 'کردن', 'نگاه', 'توانا', 'بود', 'هر', 'که', 'دانا', 'بود', 'ز', 'دانش', 'دل', 'پیر', 'برنا', 'بود', 'از', 'این', 'پرده', 'برتر', 'سخن\\u200cگاه', 'نیست', 'ز', 'هستی', 'مر', 'اندیشه', 'را', 'راه', 'نیست', 'کنون', 'ای', 'خردمند', 'وصف', 'خرد', 'بدین', 'جایگه', 'گفتن', 'اندر', 'خورد', 'کنون', 'تا', 'چه', 'داری', 'بیار', 'از', 'خرد', 'که', 'گوش', 'نیوشنده', 'ز', 'او', 'بر', 'خورد', 'خرد']\n",
      "Total Tokens: 567173\n",
      "Unique Tokens: 19354\n"
     ]
    }
   ],
   "source": [
    "tokens = text.split()\n",
    "print(tokens[:200])\n",
    "print('Total Tokens: %d' % len(tokens))\n",
    "print('Unique Tokens: %d' % len(set(tokens)))"
   ]
  },
  {
   "cell_type": "code",
   "execution_count": 17,
   "id": "e3b7dbdb-b0cc-4843-a92d-be50ced627ff",
   "metadata": {},
   "outputs": [
    {
     "name": "stdout",
     "output_type": "stream",
     "text": [
      "Total Sequences: 567122\n"
     ]
    }
   ],
   "source": [
    "# organize into sequences of tokens\n",
    "length = 50 + 1\n",
    "sequences = list()\n",
    "for i in range(length, len(tokens)):\n",
    "\t# select sequence of tokens\n",
    "\tseq = tokens[i-length:i]\n",
    "\t# convert into a line\n",
    "\tline = ' '.join(seq)\n",
    "\t# store\n",
    "\tsequences.append(line)\n",
    "print('Total Sequences: %d' % len(sequences))"
   ]
  },
  {
   "cell_type": "code",
   "execution_count": 21,
   "id": "94a3d7af-8c4a-41b2-be13-af7818fa385d",
   "metadata": {},
   "outputs": [
    {
     "name": "stdout",
     "output_type": "stream",
     "text": [
      "['به نام خداوند جان و خرد کز این برتر اندیشه بر نگذرد خداوند نام و خداوند جای خداوند روزی ده رهنمای خداوند کیوان و گَردان سپهر فروزندهٔ ماه و ناهید و مهر ز نام و نشان و گمان برتر است نگارندهٔ بر شده پیکر است به بینندگان آفریننده را نبینی مرنجان', 'نام خداوند جان و خرد کز این برتر اندیشه بر نگذرد خداوند نام و خداوند جای خداوند روزی ده رهنمای خداوند کیوان و گَردان سپهر فروزندهٔ ماه و ناهید و مهر ز نام و نشان و گمان برتر است نگارندهٔ بر شده پیکر است به بینندگان آفریننده را نبینی مرنجان دو', 'خداوند جان و خرد کز این برتر اندیشه بر نگذرد خداوند نام و خداوند جای خداوند روزی ده رهنمای خداوند کیوان و گَردان سپهر فروزندهٔ ماه و ناهید و مهر ز نام و نشان و گمان برتر است نگارندهٔ بر شده پیکر است به بینندگان آفریننده را نبینی مرنجان دو بیننده', 'جان و خرد کز این برتر اندیشه بر نگذرد خداوند نام و خداوند جای خداوند روزی ده رهنمای خداوند کیوان و گَردان سپهر فروزندهٔ ماه و ناهید و مهر ز نام و نشان و گمان برتر است نگارندهٔ بر شده پیکر است به بینندگان آفریننده را نبینی مرنجان دو بیننده را', 'و خرد کز این برتر اندیشه بر نگذرد خداوند نام و خداوند جای خداوند روزی ده رهنمای خداوند کیوان و گَردان سپهر فروزندهٔ ماه و ناهید و مهر ز نام و نشان و گمان برتر است نگارندهٔ بر شده پیکر است به بینندگان آفریننده را نبینی مرنجان دو بیننده را نیابد', 'خرد کز این برتر اندیشه بر نگذرد خداوند نام و خداوند جای خداوند روزی ده رهنمای خداوند کیوان و گَردان سپهر فروزندهٔ ماه و ناهید و مهر ز نام و نشان و گمان برتر است نگارندهٔ بر شده پیکر است به بینندگان آفریننده را نبینی مرنجان دو بیننده را نیابد بدو', 'کز این برتر اندیشه بر نگذرد خداوند نام و خداوند جای خداوند روزی ده رهنمای خداوند کیوان و گَردان سپهر فروزندهٔ ماه و ناهید و مهر ز نام و نشان و گمان برتر است نگارندهٔ بر شده پیکر است به بینندگان آفریننده را نبینی مرنجان دو بیننده را نیابد بدو نیز', 'این برتر اندیشه بر نگذرد خداوند نام و خداوند جای خداوند روزی ده رهنمای خداوند کیوان و گَردان سپهر فروزندهٔ ماه و ناهید و مهر ز نام و نشان و گمان برتر است نگارندهٔ بر شده پیکر است به بینندگان آفریننده را نبینی مرنجان دو بیننده را نیابد بدو نیز اندیشه', 'برتر اندیشه بر نگذرد خداوند نام و خداوند جای خداوند روزی ده رهنمای خداوند کیوان و گَردان سپهر فروزندهٔ ماه و ناهید و مهر ز نام و نشان و گمان برتر است نگارندهٔ بر شده پیکر است به بینندگان آفریننده را نبینی مرنجان دو بیننده را نیابد بدو نیز اندیشه راه', 'اندیشه بر نگذرد خداوند نام و خداوند جای خداوند روزی ده رهنمای خداوند کیوان و گَردان سپهر فروزندهٔ ماه و ناهید و مهر ز نام و نشان و گمان برتر است نگارندهٔ بر شده پیکر است به بینندگان آفریننده را نبینی مرنجان دو بیننده را نیابد بدو نیز اندیشه راه که']\n"
     ]
    }
   ],
   "source": [
    "print(sequences[:10])"
   ]
  },
  {
   "cell_type": "code",
   "execution_count": 26,
   "id": "c0aa0f4e-72fc-4dfe-8cee-702e2e109bd1",
   "metadata": {},
   "outputs": [
    {
     "ename": "NameError",
     "evalue": "name 'Tokenizer' is not defined",
     "output_type": "error",
     "traceback": [
      "\u001b[1;31m---------------------------------------------------------------------------\u001b[0m",
      "\u001b[1;31mNameError\u001b[0m                                 Traceback (most recent call last)",
      "Cell \u001b[1;32mIn[26], line 1\u001b[0m\n\u001b[1;32m----> 1\u001b[0m tokenizer \u001b[38;5;241m=\u001b[39m \u001b[43mTokenizer\u001b[49m()\n\u001b[0;32m      3\u001b[0m \u001b[38;5;28;01mdef\u001b[39;00m \u001b[38;5;21mget_sequence_of_tokens\u001b[39m(corpus):\n\u001b[0;32m      4\u001b[0m     \u001b[38;5;66;03m## tokenization\u001b[39;00m\n\u001b[0;32m      5\u001b[0m     tokenizer\u001b[38;5;241m.\u001b[39mfit_on_texts(corpus)\n",
      "\u001b[1;31mNameError\u001b[0m: name 'Tokenizer' is not defined"
     ]
    }
   ],
   "source": [
    "tokenizer = Tokenizer()\n",
    "\n",
    "def get_sequence_of_tokens(corpus):\n",
    "    ## tokenization\n",
    "    tokenizer.fit_on_texts(corpus)\n",
    "    total_words = len(tokenizer.word_index) + 1\n",
    "    \n",
    "    ## convert data to sequence of tokens \n",
    "    input_sequences = []\n",
    "    for line in corpus:\n",
    "        token_list = tokenizer.texts_to_sequences([line])[0]\n",
    "        for i in range(1, len(token_list)):\n",
    "            n_gram_sequence = token_list[:i+1]\n",
    "            input_sequences.append(n_gram_sequence)\n",
    "    return input_sequences, total_words\n",
    "\n",
    "inp_sequences, total_words = get_sequence_of_tokens(sequences)\n",
    "inp_sequences[:10]"
   ]
  },
  {
   "cell_type": "code",
   "execution_count": null,
   "id": "b96603c4-e7e7-4dcc-9ebb-633864f56221",
   "metadata": {},
   "outputs": [],
   "source": []
  }
 ],
 "metadata": {
  "kernelspec": {
   "display_name": "Python 3 (ipykernel)",
   "language": "python",
   "name": "python3"
  },
  "language_info": {
   "codemirror_mode": {
    "name": "ipython",
    "version": 3
   },
   "file_extension": ".py",
   "mimetype": "text/x-python",
   "name": "python",
   "nbconvert_exporter": "python",
   "pygments_lexer": "ipython3",
   "version": "3.12.3"
  }
 },
 "nbformat": 4,
 "nbformat_minor": 5
}
