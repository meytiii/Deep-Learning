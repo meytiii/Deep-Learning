{
  "nbformat": 4,
  "nbformat_minor": 0,
  "metadata": {
    "colab": {
      "provenance": [],
      "gpuType": "T4"
    },
    "kernelspec": {
      "name": "python3",
      "display_name": "Python 3"
    },
    "language_info": {
      "name": "python"
    },
    "accelerator": "GPU"
  },
  "cells": [
    {
      "cell_type": "markdown",
      "source": [
        "**First install SciKit Surprise.**"
      ],
      "metadata": {
        "id": "gVzInacXnWNF"
      }
    },
    {
      "cell_type": "code",
      "source": [
        "!pip install scikit-surprise"
      ],
      "metadata": {
        "colab": {
          "base_uri": "https://localhost:8080/"
        },
        "id": "0qJ0pQBVnUb2",
        "outputId": "63e45539-d38e-4229-9a68-16b4e1b6e7b8"
      },
      "execution_count": 1,
      "outputs": [
        {
          "output_type": "stream",
          "name": "stdout",
          "text": [
            "Collecting scikit-surprise\n",
            "  Downloading scikit-surprise-1.1.3.tar.gz (771 kB)\n",
            "\u001b[2K     \u001b[90m━━━━━━━━━━━━━━━━━━━━━━━━━━━━━━━━━━━━━━━━\u001b[0m \u001b[32m772.0/772.0 kB\u001b[0m \u001b[31m8.3 MB/s\u001b[0m eta \u001b[36m0:00:00\u001b[0m\n",
            "\u001b[?25h  Preparing metadata (setup.py) ... \u001b[?25l\u001b[?25hdone\n",
            "Requirement already satisfied: joblib>=1.0.0 in /usr/local/lib/python3.10/dist-packages (from scikit-surprise) (1.4.0)\n",
            "Requirement already satisfied: numpy>=1.17.3 in /usr/local/lib/python3.10/dist-packages (from scikit-surprise) (1.25.2)\n",
            "Requirement already satisfied: scipy>=1.3.2 in /usr/local/lib/python3.10/dist-packages (from scikit-surprise) (1.11.4)\n",
            "Building wheels for collected packages: scikit-surprise\n",
            "  Building wheel for scikit-surprise (setup.py) ... \u001b[?25l\u001b[?25hdone\n",
            "  Created wheel for scikit-surprise: filename=scikit_surprise-1.1.3-cp310-cp310-linux_x86_64.whl size=3162991 sha256=8058f342bf5e7700a6ddbd8ba59a6aadacedf28c587869cd364a8e4cb66eca67\n",
            "  Stored in directory: /root/.cache/pip/wheels/a5/ca/a8/4e28def53797fdc4363ca4af740db15a9c2f1595ebc51fb445\n",
            "Successfully built scikit-surprise\n",
            "Installing collected packages: scikit-surprise\n",
            "Successfully installed scikit-surprise-1.1.3\n"
          ]
        }
      ]
    },
    {
      "cell_type": "code",
      "execution_count": 2,
      "metadata": {
        "id": "gtaDFfwqmOdR"
      },
      "outputs": [],
      "source": [
        "import pandas as pd\n",
        "from sklearn.model_selection import train_test_split\n",
        "from surprise import Reader, Dataset, SVD\n",
        "from surprise.model_selection import cross_validate"
      ]
    },
    {
      "cell_type": "markdown",
      "source": [
        "**Load the dataset zip file**"
      ],
      "metadata": {
        "id": "Ox6xqGaSmZ7q"
      }
    },
    {
      "cell_type": "code",
      "source": [
        "!wget http://files.grouplens.org/datasets/movielens/ml-latest-small.zip"
      ],
      "metadata": {
        "colab": {
          "base_uri": "https://localhost:8080/"
        },
        "id": "M1BVH677mfYj",
        "outputId": "9fd85af7-d54c-4889-ba18-b9047b6acaee"
      },
      "execution_count": 3,
      "outputs": [
        {
          "output_type": "stream",
          "name": "stdout",
          "text": [
            "--2024-04-26 09:30:53--  http://files.grouplens.org/datasets/movielens/ml-latest-small.zip\n",
            "Resolving files.grouplens.org (files.grouplens.org)... 128.101.65.152\n",
            "Connecting to files.grouplens.org (files.grouplens.org)|128.101.65.152|:80... connected.\n",
            "HTTP request sent, awaiting response... 200 OK\n",
            "Length: 978202 (955K) [application/zip]\n",
            "Saving to: ‘ml-latest-small.zip’\n",
            "\n",
            "ml-latest-small.zip 100%[===================>] 955.28K  1.49MB/s    in 0.6s    \n",
            "\n",
            "2024-04-26 09:30:54 (1.49 MB/s) - ‘ml-latest-small.zip’ saved [978202/978202]\n",
            "\n"
          ]
        }
      ]
    },
    {
      "cell_type": "markdown",
      "source": [
        "**Extract the dataset zip file.**"
      ],
      "metadata": {
        "id": "4ESMz8ipmsyg"
      }
    },
    {
      "cell_type": "code",
      "source": [
        "import zipfile\n",
        "import os"
      ],
      "metadata": {
        "id": "v3DLbJMFmmoR"
      },
      "execution_count": 4,
      "outputs": []
    },
    {
      "cell_type": "code",
      "source": [
        "zip_path = '/content/ml-latest-small.zip'\n",
        "extracting_dir = '/content/'\n",
        "os.makedirs(extracting_dir, exist_ok=True)\n",
        "with zipfile.ZipFile(zip_path, 'r') as zip_ref:\n",
        "    zip_ref.extractall(extracting_dir)\n",
        "extracted_files = os.listdir(extracting_dir)"
      ],
      "metadata": {
        "id": "yqyLLPRtmv53"
      },
      "execution_count": 5,
      "outputs": []
    },
    {
      "cell_type": "markdown",
      "source": [
        "**Load data from CSV files**"
      ],
      "metadata": {
        "id": "28bDSiNKm6Iq"
      }
    },
    {
      "cell_type": "code",
      "source": [
        "links = pd.read_csv('/content/ml-latest-small/links.csv')\n",
        "movies = pd.read_csv('/content/ml-latest-small/movies.csv')\n",
        "ratings = pd.read_csv('/content/ml-latest-small/ratings.csv')\n",
        "tags = pd.read_csv('/content/ml-latest-small/tags.csv')"
      ],
      "metadata": {
        "id": "DbA30oHis1b4"
      },
      "execution_count": 6,
      "outputs": []
    },
    {
      "cell_type": "markdown",
      "source": [
        "**Merge datasets**"
      ],
      "metadata": {
        "id": "WHeYSt9ps8-2"
      }
    },
    {
      "cell_type": "code",
      "source": [
        "merged_data = pd.merge(ratings, movies, on='movieId')"
      ],
      "metadata": {
        "id": "onjxhTats9hk"
      },
      "execution_count": 7,
      "outputs": []
    },
    {
      "cell_type": "markdown",
      "source": [
        "**Split data into training and testing sets**"
      ],
      "metadata": {
        "id": "Z3osiFWGtAO2"
      }
    },
    {
      "cell_type": "code",
      "source": [
        "train_data, test_data = train_test_split(merged_data, test_size=0.2, random_state=42)"
      ],
      "metadata": {
        "id": "qPCe3WGEtB68"
      },
      "execution_count": 8,
      "outputs": []
    },
    {
      "cell_type": "markdown",
      "source": [
        "**Load data into Surprise format**"
      ],
      "metadata": {
        "id": "yDwOxf_NtFEl"
      }
    },
    {
      "cell_type": "code",
      "source": [
        "reader = Reader(rating_scale=(1, 5))\n",
        "train_dataset = Dataset.load_from_df(train_data[['userId', 'movieId', 'rating']], reader)\n",
        "test_dataset = Dataset.load_from_df(test_data[['userId', 'movieId', 'rating']], reader)"
      ],
      "metadata": {
        "id": "WAOwg6z_tFqU"
      },
      "execution_count": 9,
      "outputs": []
    },
    {
      "cell_type": "markdown",
      "source": [
        "**Choose and train a recommendation algorithm (e.g., collaborative filtering)\n",
        "Here, let's use Singular Value Decomposition (SVD)**"
      ],
      "metadata": {
        "id": "7iGQFviltMVX"
      }
    },
    {
      "cell_type": "code",
      "source": [
        "algo = SVD()\n",
        "trainset = train_dataset.build_full_trainset()\n",
        "algo.fit(trainset)\n",
        "\n",
        "cross_validate(algo, train_dataset, measures=['RMSE', 'MAE'], cv=5, verbose=True)"
      ],
      "metadata": {
        "colab": {
          "base_uri": "https://localhost:8080/"
        },
        "id": "W0-bcX9dtTlu",
        "outputId": "288192cd-04ea-44ce-aca7-526ed160f0f1"
      },
      "execution_count": 10,
      "outputs": [
        {
          "output_type": "stream",
          "name": "stdout",
          "text": [
            "Evaluating RMSE, MAE of algorithm SVD on 5 split(s).\n",
            "\n",
            "                  Fold 1  Fold 2  Fold 3  Fold 4  Fold 5  Mean    Std     \n",
            "RMSE (testset)    0.8798  0.8849  0.8772  0.8822  0.8849  0.8818  0.0030  \n",
            "MAE (testset)     0.6769  0.6788  0.6790  0.6830  0.6777  0.6791  0.0021  \n",
            "Fit time          1.05    1.52    1.32    1.01    1.50    1.28    0.21    \n",
            "Test time         0.08    0.27    0.11    0.19    0.18    0.17    0.06    \n"
          ]
        },
        {
          "output_type": "execute_result",
          "data": {
            "text/plain": [
              "{'test_rmse': array([0.87979956, 0.88490107, 0.87721204, 0.88217657, 0.88488075]),\n",
              " 'test_mae': array([0.67692143, 0.67878038, 0.67901692, 0.68298597, 0.67767743]),\n",
              " 'fit_time': (1.0518600940704346,\n",
              "  1.5150434970855713,\n",
              "  1.3207404613494873,\n",
              "  1.013169288635254,\n",
              "  1.5045206546783447),\n",
              " 'test_time': (0.08416318893432617,\n",
              "  0.26516127586364746,\n",
              "  0.1072089672088623,\n",
              "  0.19318509101867676,\n",
              "  0.1767585277557373)}"
            ]
          },
          "metadata": {},
          "execution_count": 10
        }
      ]
    },
    {
      "cell_type": "markdown",
      "source": [
        "**In this example we want to recommend 10 movies to user number 249.**"
      ],
      "metadata": {
        "id": "2q1aNvCLtlIV"
      }
    },
    {
      "cell_type": "markdown",
      "source": [
        "**Get a list of all movie IDs**"
      ],
      "metadata": {
        "id": "6hECk077txrj"
      }
    },
    {
      "cell_type": "code",
      "source": [
        "all_movie_ids = merged_data['movieId'].unique()"
      ],
      "metadata": {
        "id": "a-xaMa66tzK1"
      },
      "execution_count": 11,
      "outputs": []
    },
    {
      "cell_type": "markdown",
      "source": [
        "**Predict ratings for all movies that the user hasn't rated yet.**"
      ],
      "metadata": {
        "id": "lz3ECJX5t00U"
      }
    },
    {
      "cell_type": "code",
      "source": [
        "user_id = 249\n",
        "user_ratings = train_data[train_data['userId'] == user_id]\n",
        "user_rated_movie_ids = user_ratings['movieId'].values\n",
        "unrated_movie_ids = [movie_id for movie_id in all_movie_ids if movie_id not in user_rated_movie_ids]"
      ],
      "metadata": {
        "id": "QhqGUj4Et2Dm"
      },
      "execution_count": 12,
      "outputs": []
    },
    {
      "cell_type": "markdown",
      "source": [
        "**Make predictions for unrated movie and sort them.**"
      ],
      "metadata": {
        "id": "vwOc6sqet34K"
      }
    },
    {
      "cell_type": "code",
      "source": [
        "predictions = [algo.predict(user_id, movie_id) for movie_id in unrated_movie_ids]\n",
        "sorted_predictions = sorted(predictions, key=lambda x: x.est, reverse=True)\n",
        "\n",
        "top_n_recommendations = [pred.iid for pred in sorted_predictions[:10]]\n",
        "print(\"Top recommended movie IDs for user\", user_id, \":\", top_n_recommendations)"
      ],
      "metadata": {
        "colab": {
          "base_uri": "https://localhost:8080/"
        },
        "id": "jG7Zsr2mt8FX",
        "outputId": "619db0bc-59db-49f8-e394-e170082533ff"
      },
      "execution_count": 13,
      "outputs": [
        {
          "output_type": "stream",
          "name": "stdout",
          "text": [
            "Top recommended movie IDs for user 249 : [318, 1204, 527, 898, 1283, 50, 904, 215, 1197, 5618]\n"
          ]
        }
      ]
    },
    {
      "cell_type": "markdown",
      "source": [
        "*You can change the user_id anytime you want to recommend movies to another user.*"
      ],
      "metadata": {
        "id": "oMKhvYW0ueaP"
      }
    },
    {
      "cell_type": "markdown",
      "source": [
        "**Also using this code, you can print out movies' names instead of their IDs in the CSV files.**"
      ],
      "metadata": {
        "id": "gU5-P0_mus6C"
      }
    },
    {
      "cell_type": "code",
      "source": [
        "movie_id_to_title = dict(zip(movies['movieId'], movies['title']))\n",
        "\n",
        "top_n_recommendations_titles = [movie_id_to_title[movie_id] for movie_id in top_n_recommendations]\n",
        "\n",
        "print(\"Top recommended movies for user\", user_id, \":\", top_n_recommendations_titles)"
      ],
      "metadata": {
        "colab": {
          "base_uri": "https://localhost:8080/"
        },
        "id": "csHOxN77uxsd",
        "outputId": "4378f0f2-65ff-4747-e529-da95c1a3d268"
      },
      "execution_count": 14,
      "outputs": [
        {
          "output_type": "stream",
          "name": "stdout",
          "text": [
            "Top recommended movies for user 249 : ['Shawshank Redemption, The (1994)', 'Lawrence of Arabia (1962)', \"Schindler's List (1993)\", 'Philadelphia Story, The (1940)', 'High Noon (1952)', 'Usual Suspects, The (1995)', 'Rear Window (1954)', 'Before Sunrise (1995)', 'Princess Bride, The (1987)', 'Spirited Away (Sen to Chihiro no kamikakushi) (2001)']\n"
          ]
        }
      ]
    },
    {
      "cell_type": "markdown",
      "source": [
        "*In this code, movie_id_to_title is a dictionary mapping movie IDs to their titles. After obtaining the top N recommended movie IDs, the corresponding titles are retrieved using this dictionary. Finally, the recommended movie titles are printed or used as desired.*"
      ],
      "metadata": {
        "id": "I8UbOPnZu57e"
      }
    }
  ]
}