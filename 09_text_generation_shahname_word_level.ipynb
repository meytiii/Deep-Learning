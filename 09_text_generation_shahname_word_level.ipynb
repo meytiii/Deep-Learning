{
  "nbformat": 4,
  "nbformat_minor": 0,
  "metadata": {
    "colab": {
      "provenance": [],
      "gpuType": "T4"
    },
    "kernelspec": {
      "name": "python3",
      "display_name": "Python 3"
    },
    "language_info": {
      "name": "python"
    },
    "accelerator": "GPU"
  },
  "cells": [
    {
      "cell_type": "markdown",
      "source": [
        "**Import necessary libraries**"
      ],
      "metadata": {
        "id": "AQS6SJ-sI53o"
      }
    },
    {
      "cell_type": "code",
      "source": [
        "import os\n",
        "import tensorflow as tf\n",
        "import numpy as np\n",
        "import pandas as pd\n",
        "import time\n",
        "from tensorflow import keras\n",
        "import re\n",
        "import matplotlib.pyplot as plt"
      ],
      "metadata": {
        "id": "6m_fUuSzI4mD"
      },
      "execution_count": 1,
      "outputs": []
    },
    {
      "cell_type": "code",
      "source": [
        "!wget https://raw.githubusercontent.com/meytiii/Deep-Learning/main/datasets/shahname.csv -O shahname.csv"
      ],
      "metadata": {
        "id": "SofIQSYJI8DX",
        "colab": {
          "base_uri": "https://localhost:8080/"
        },
        "outputId": "58566444-b55d-4403-9f39-6bf140e767c7"
      },
      "execution_count": 2,
      "outputs": [
        {
          "output_type": "stream",
          "name": "stdout",
          "text": [
            "--2024-06-26 20:08:59--  https://raw.githubusercontent.com/meytiii/Deep-Learning/main/datasets/shahname.csv\n",
            "Resolving raw.githubusercontent.com (raw.githubusercontent.com)... 185.199.108.133, 185.199.109.133, 185.199.110.133, ...\n",
            "Connecting to raw.githubusercontent.com (raw.githubusercontent.com)|185.199.108.133|:443... connected.\n",
            "HTTP request sent, awaiting response... 200 OK\n",
            "Length: 5609688 (5.3M) [text/plain]\n",
            "Saving to: ‘shahname.csv’\n",
            "\n",
            "shahname.csv        100%[===================>]   5.35M  --.-KB/s    in 0.07s   \n",
            "\n",
            "2024-06-26 20:08:59 (78.5 MB/s) - ‘shahname.csv’ saved [5609688/5609688]\n",
            "\n"
          ]
        }
      ]
    },
    {
      "cell_type": "code",
      "source": [
        "df = pd.read_csv('shahname.csv')\n",
        "text = '\\n'.join(df['Text'])\n",
        "# Display the first 250 characters of the text\n",
        "print(text[:250])"
      ],
      "metadata": {
        "id": "ow3QDmVCI-XC",
        "colab": {
          "base_uri": "https://localhost:8080/"
        },
        "outputId": "3d31741b-3312-45e9-8f35-5d377bf0c367"
      },
      "execution_count": 3,
      "outputs": [
        {
          "output_type": "stream",
          "name": "stdout",
          "text": [
            "به نام خداوند جان و خرد\n",
            "کز این برتر اندیشه بر نگذرد\n",
            "خداوند نام و خداوند جای\n",
            "خداوند روزی ده رهنمای\n",
            "خداوند کیوان و گَردان سپهر\n",
            "فروزندهٔ ماه و ناهید و مهر\n",
            "ز نام و نشان و گمان برتر است\n",
            "نگارندهٔ بر شده پیکر است\n",
            "به بینندگان آفریننده را\n",
            "نبینی مرنجان دو بینن\n"
          ]
        }
      ]
    },
    {
      "cell_type": "markdown",
      "source": [
        "**Preprocess the text: tokenization into words**"
      ],
      "metadata": {
        "id": "FlM2I7gHJA0u"
      }
    },
    {
      "cell_type": "code",
      "source": [
        "text = re.sub(r'\\s+', ' ', text)  # Remove extra spaces\n",
        "words = text.split(' ')\n",
        "print(f'Total words: {len(words)}')\n"
      ],
      "metadata": {
        "id": "wFdLZOHEJABx",
        "colab": {
          "base_uri": "https://localhost:8080/"
        },
        "outputId": "ba35b9a3-3e9d-4dd2-97d6-324612440949"
      },
      "execution_count": 4,
      "outputs": [
        {
          "output_type": "stream",
          "name": "stdout",
          "text": [
            "Total words: 567173\n"
          ]
        }
      ]
    },
    {
      "cell_type": "markdown",
      "source": [
        "**Create a vocabulary of unique words**"
      ],
      "metadata": {
        "id": "L8IMDEzBJFLh"
      }
    },
    {
      "cell_type": "code",
      "source": [
        "vocab = sorted(set(words))\n",
        "print(f'{len(vocab)} unique words')\n",
        "for v in vocab[:100]:  # Display the first 100 words\n",
        "    print(f'{v}', end=' ')\n",
        "\n",
        "# Mapping from words to IDs and vice versa\n",
        "ids_to_words = keras.layers.StringLookup(vocabulary=vocab, invert=True, mask_token=None)\n",
        "ids_from_words = keras.layers.StringLookup(vocabulary=vocab, invert=False, mask_token=None)"
      ],
      "metadata": {
        "id": "K79aPnHtJEjy",
        "colab": {
          "base_uri": "https://localhost:8080/"
        },
        "outputId": "59c05137-6887-49b6-e98e-eb0d224fe466"
      },
      "execution_count": 5,
      "outputs": [
        {
          "output_type": "stream",
          "name": "stdout",
          "text": [
            "19354 unique words\n",
            "(؟) (را) (و) «بدان «بی‌آنکش «خداوند «ره «و» ، ؟ آئین آب آب، آباد آبادبوم آبادتر آبادجای آبادشهر آبادگان آبار آبت آبتین آبتینش آبخور آبداده آبدار آبداری آبدستان آبدن آبروی آبست آبستن آبستنست آبستنی آبش آبشخور آبشخورت آبشخورست آبشخورش آبشخورم آبنوس آبنوسی آبه آبها آبهای آبِ آبْ آبچین آبکش آبگون آبگیر آبگیرست آبگیرش آبگیری آبگینه آبی آب‌روی آب‌ها آب‌کش آب‌گون آب‌گیر آب‌یابی آتش آتشت آتشست آتشستی آتشش آتشکدست آتشکده آتشی آتش‌آمیز آتش‌پرست آتش‌پرستان آثار آخت آختم آختن آختند آخته آختی آخر آخری آخور آخُر آدم آدمی آدمیست آدینه آذر آذرآبادگان آذرا آذرابادگان آذران آذراندر آذرش آذرمهان آذرنگ آذرپرست آذرپناه آذرگشسب "
          ]
        }
      ]
    },
    {
      "cell_type": "code",
      "source": [
        "for v in ids_from_words.get_vocabulary()[:100]:  # Display the first 100 words\n",
        "    print(v, end=' ')"
      ],
      "metadata": {
        "id": "-KRfoMvtJJZ8",
        "colab": {
          "base_uri": "https://localhost:8080/"
        },
        "outputId": "bbcc2eb4-2178-4fa9-80ac-7115e42bed05"
      },
      "execution_count": 6,
      "outputs": [
        {
          "output_type": "stream",
          "name": "stdout",
          "text": [
            "[UNK] (؟) (را) (و) «بدان «بی‌آنکش «خداوند «ره «و» ، ؟ آئین آب آب، آباد آبادبوم آبادتر آبادجای آبادشهر آبادگان آبار آبت آبتین آبتینش آبخور آبداده آبدار آبداری آبدستان آبدن آبروی آبست آبستن آبستنست آبستنی آبش آبشخور آبشخورت آبشخورست آبشخورش آبشخورم آبنوس آبنوسی آبه آبها آبهای آبِ آبْ آبچین آبکش آبگون آبگیر آبگیرست آبگیرش آبگیری آبگینه آبی آب‌روی آب‌ها آب‌کش آب‌گون آب‌گیر آب‌یابی آتش آتشت آتشست آتشستی آتشش آتشکدست آتشکده آتشی آتش‌آمیز آتش‌پرست آتش‌پرستان آثار آخت آختم آختن آختند آخته آختی آخر آخری آخور آخُر آدم آدمی آدمیست آدینه آذر آذرآبادگان آذرا آذرابادگان آذران آذراندر آذرش آذرمهان آذرنگ آذرپرست آذرپناه "
          ]
        }
      ]
    },
    {
      "cell_type": "markdown",
      "source": [
        "**Convert text to sequence of IDs**"
      ],
      "metadata": {
        "id": "PqkU08ZaJL2w"
      }
    },
    {
      "cell_type": "code",
      "source": [
        "all_ids = ids_from_words(tf.strings.split(text))\n",
        "all_ids = tf.squeeze(all_ids)  # Ensure the shape is correct\n",
        "print(all_ids[:20])  # Display the first 20 IDs"
      ],
      "metadata": {
        "id": "xBZlV3ucJK8D",
        "colab": {
          "base_uri": "https://localhost:8080/"
        },
        "outputId": "2c2a83a7-0344-4daf-9ce5-d7a6545e2f80"
      },
      "execution_count": 7,
      "outputs": [
        {
          "output_type": "stream",
          "name": "stdout",
          "text": [
            "tf.Tensor(\n",
            "[ 4398 13240  6942  6452 15191  6989 17795  1422  2996  1201  2727 14320\n",
            "  6942 13240 15191  6942  6477  6942  9128  8192], shape=(20,), dtype=int64)\n"
          ]
        }
      ]
    },
    {
      "cell_type": "markdown",
      "source": [
        "**Define sequence length and batch size**"
      ],
      "metadata": {
        "id": "MeTzkj6yJSMg"
      }
    },
    {
      "cell_type": "code",
      "source": [
        "SEQUENCE_LENGTH = 20  # Since we are working at the word level, we can use a smaller sequence length\n",
        "BATCH_SIZE = 64\n",
        "AUTOTUNE = tf.data.experimental.AUTOTUNE"
      ],
      "metadata": {
        "id": "J-CQ-MVwJQ_N"
      },
      "execution_count": 8,
      "outputs": []
    },
    {
      "cell_type": "markdown",
      "source": [
        "**Create a dataset of sequences**"
      ],
      "metadata": {
        "id": "tb0F8lSnJXiz"
      }
    },
    {
      "cell_type": "code",
      "source": [
        "ids_dataset = tf.data.Dataset.from_tensor_slices(all_ids)\n",
        "sequences = ids_dataset.batch(SEQUENCE_LENGTH + 1, drop_remainder=True, num_parallel_calls=AUTOTUNE)"
      ],
      "metadata": {
        "id": "WXocI3dAJYjW"
      },
      "execution_count": 9,
      "outputs": []
    },
    {
      "cell_type": "markdown",
      "source": [
        "**Split input and target texts**"
      ],
      "metadata": {
        "id": "SN5cjUAMJcCj"
      }
    },
    {
      "cell_type": "code",
      "source": [
        "def split_input_target(sequence):\n",
        "    input_text = sequence[:-1]\n",
        "    target_text = sequence[1:]\n",
        "    return input_text, target_text\n",
        "\n",
        "dataset = sequences.map(split_input_target, num_parallel_calls=AUTOTUNE)\n",
        "\n",
        "# Create training batches\n",
        "dataset = dataset.batch(BATCH_SIZE, num_parallel_calls=AUTOTUNE, drop_remainder=True)\n",
        "dataset = dataset.prefetch(AUTOTUNE)"
      ],
      "metadata": {
        "id": "BE-94f27DHOh"
      },
      "execution_count": 10,
      "outputs": []
    },
    {
      "cell_type": "markdown",
      "source": [
        "**Creating and compiling our model**"
      ],
      "metadata": {
        "id": "TcmLx8uAJhvu"
      }
    },
    {
      "cell_type": "code",
      "source": [
        "# Model parameters\n",
        "VOCAB_SIZE = len(ids_from_words.get_vocabulary())\n",
        "EMBEDDING_DIM = 256\n",
        "RNN_UNITS = 1024\n",
        "\n",
        "# Define the model\n",
        "class MyModel(keras.Model):\n",
        "    def __init__(self, vocabulary_size, embedding_dim, rnn_units):\n",
        "        super(MyModel, self).__init__()\n",
        "        self.embedding = keras.layers.Embedding(input_dim=vocabulary_size, output_dim=embedding_dim)\n",
        "        self.gru = keras.layers.GRU(units=rnn_units, return_sequences=True, return_state=True)\n",
        "        self.dense = keras.layers.Dense(vocabulary_size)\n",
        "\n",
        "    def call(self, inputs, states=None, return_state=False, training=False):\n",
        "        x = self.embedding(inputs, training=training)\n",
        "        if states is None:\n",
        "            states = self.gru.get_initial_state(x)\n",
        "        x, states = self.gru(x, initial_state=states, training=training)\n",
        "        x = self.dense(x, training=training)\n",
        "        if return_state:\n",
        "            return x, states\n",
        "        return x\n",
        "\n",
        "model = MyModel(vocabulary_size=VOCAB_SIZE, embedding_dim=EMBEDDING_DIM, rnn_units=RNN_UNITS)\n",
        "\n",
        "# Compile the model\n",
        "model.compile(optimizer='adam', loss=keras.losses.SparseCategoricalCrossentropy(from_logits=True))\n",
        "\n",
        "# Set up checkpoints\n",
        "checkpoints_dir = './temp/chpts/'\n",
        "checkpoint_prefix = os.path.join(checkpoints_dir, 'chpt_{epoch}')\n",
        "checkpoint_callback = keras.callbacks.ModelCheckpoint(filepath=checkpoint_prefix, save_weights_only=True)\n",
        "\n",
        "# Train the model\n",
        "EPOCHS = 30\n",
        "history = model.fit(dataset, epochs=EPOCHS, callbacks=[checkpoint_callback])"
      ],
      "metadata": {
        "id": "F_wmIPV0JlDz",
        "colab": {
          "base_uri": "https://localhost:8080/"
        },
        "outputId": "3ac3a854-b30c-4399-ec35-9146f7014e09"
      },
      "execution_count": 11,
      "outputs": [
        {
          "output_type": "stream",
          "name": "stdout",
          "text": [
            "Epoch 1/30\n",
            "422/422 [==============================] - 51s 94ms/step - loss: 7.2089\n",
            "Epoch 2/30\n",
            "422/422 [==============================] - 28s 65ms/step - loss: 6.2991\n",
            "Epoch 3/30\n",
            "422/422 [==============================] - 31s 73ms/step - loss: 5.7469\n",
            "Epoch 4/30\n",
            "422/422 [==============================] - 29s 69ms/step - loss: 5.2930\n",
            "Epoch 5/30\n",
            "422/422 [==============================] - 28s 67ms/step - loss: 4.8939\n",
            "Epoch 6/30\n",
            "422/422 [==============================] - 28s 66ms/step - loss: 4.5165\n",
            "Epoch 7/30\n",
            "422/422 [==============================] - 28s 67ms/step - loss: 4.1696\n",
            "Epoch 8/30\n",
            "422/422 [==============================] - 28s 68ms/step - loss: 3.8535\n",
            "Epoch 9/30\n",
            "422/422 [==============================] - 30s 71ms/step - loss: 3.5657\n",
            "Epoch 10/30\n",
            "422/422 [==============================] - 30s 71ms/step - loss: 3.3090\n",
            "Epoch 11/30\n",
            "422/422 [==============================] - 28s 67ms/step - loss: 3.0771\n",
            "Epoch 12/30\n",
            "422/422 [==============================] - 28s 67ms/step - loss: 2.8666\n",
            "Epoch 13/30\n",
            "422/422 [==============================] - 28s 66ms/step - loss: 2.6768\n",
            "Epoch 14/30\n",
            "422/422 [==============================] - 28s 67ms/step - loss: 2.5106\n",
            "Epoch 15/30\n",
            "422/422 [==============================] - 28s 67ms/step - loss: 2.3648\n",
            "Epoch 16/30\n",
            "422/422 [==============================] - 28s 66ms/step - loss: 2.2360\n",
            "Epoch 17/30\n",
            "422/422 [==============================] - 28s 67ms/step - loss: 2.1130\n",
            "Epoch 18/30\n",
            "422/422 [==============================] - 28s 66ms/step - loss: 1.9985\n",
            "Epoch 19/30\n",
            "422/422 [==============================] - 28s 66ms/step - loss: 1.8916\n",
            "Epoch 20/30\n",
            "422/422 [==============================] - 28s 67ms/step - loss: 1.7917\n",
            "Epoch 21/30\n",
            "422/422 [==============================] - 28s 67ms/step - loss: 1.7000\n",
            "Epoch 22/30\n",
            "422/422 [==============================] - 28s 65ms/step - loss: 1.6166\n",
            "Epoch 23/30\n",
            "422/422 [==============================] - 35s 83ms/step - loss: 1.5452\n",
            "Epoch 24/30\n",
            "422/422 [==============================] - 34s 81ms/step - loss: 1.4744\n",
            "Epoch 25/30\n",
            "422/422 [==============================] - 34s 79ms/step - loss: 1.4120\n",
            "Epoch 26/30\n",
            "422/422 [==============================] - 35s 83ms/step - loss: 1.3477\n",
            "Epoch 27/30\n",
            "422/422 [==============================] - 35s 82ms/step - loss: 1.2897\n",
            "Epoch 28/30\n",
            "422/422 [==============================] - 35s 82ms/step - loss: 1.2433\n",
            "Epoch 29/30\n",
            "422/422 [==============================] - 33s 78ms/step - loss: 1.1972\n",
            "Epoch 30/30\n",
            "422/422 [==============================] - 35s 83ms/step - loss: 1.1555\n"
          ]
        }
      ]
    },
    {
      "cell_type": "markdown",
      "source": [
        "**Plot the training loss**"
      ],
      "metadata": {
        "id": "XAXQFK5sLOri"
      }
    },
    {
      "cell_type": "code",
      "source": [
        "def plot_training_loss(history):\n",
        "    plt.figure(figsize=(10, 6))\n",
        "    plt.plot(history.history['loss'], label='Training Loss')\n",
        "    plt.title('Training Loss Over Epochs')\n",
        "    plt.xlabel('Epochs')\n",
        "    plt.ylabel('Loss')\n",
        "    plt.legend()\n",
        "    plt.grid(True)\n",
        "    plt.show()\n",
        "\n",
        "plot_training_loss(history)"
      ],
      "metadata": {
        "colab": {
          "base_uri": "https://localhost:8080/",
          "height": 564
        },
        "id": "yt-kCzfyLOBn",
        "outputId": "773b167c-4adc-414f-dc4f-386499965eea"
      },
      "execution_count": 12,
      "outputs": [
        {
          "output_type": "display_data",
          "data": {
            "text/plain": [
              "<Figure size 1000x600 with 1 Axes>"
            ],
            "image/png": "[encoded data removed]"
          },
          "metadata": {}
        }
      ]
    },
    {
      "cell_type": "markdown",
      "source": [
        "**Define a class for generating text**"
      ],
      "metadata": {
        "id": "ctW3DzaGRjj2"
      }
    },
    {
      "cell_type": "code",
      "source": [
        "class OneStep(tf.keras.Model):\n",
        "    def __init__(self, model, ids_to_words, ids_from_words, temperature=1.0):\n",
        "        super(OneStep, self).__init__()\n",
        "        self.temperature = temperature\n",
        "        self.model = model\n",
        "        self.ids_to_words = ids_to_words\n",
        "        self.ids_from_words = ids_from_words\n",
        "        self.vocab_size = ids_from_words.vocabulary_size()\n",
        "\n",
        "    @tf.function\n",
        "    def generate_one_step(self, inputs, states=None):\n",
        "        # Expand dims to match the expected shape: (batch_size, sequence_length)\n",
        "        inputs = tf.expand_dims(inputs, 0)  # from (sequence_length,) to (1, sequence_length)\n",
        "\n",
        "        predicted_logits, states = self.model(inputs, states=states, return_state=True)\n",
        "        predicted_logits = predicted_logits[:, -1, :]  # get the last time step's output\n",
        "        predicted_logits = predicted_logits / self.temperature\n",
        "\n",
        "        predicted_ids = tf.random.categorical(predicted_logits, num_samples=1)\n",
        "        predicted_ids = tf.squeeze(predicted_ids, axis=-1)\n",
        "\n",
        "        predicted_words = self.ids_to_words(predicted_ids)\n",
        "        return predicted_words, states"
      ],
      "metadata": {
        "id": "Phgaa2r0Riwn"
      },
      "execution_count": 14,
      "outputs": []
    },
    {
      "cell_type": "markdown",
      "source": [
        "**Plot sample generated text**"
      ],
      "metadata": {
        "id": "c4BAd9e6LUXx"
      }
    },
    {
      "cell_type": "code",
      "source": [
        "def plot_generated_text(seed_text, one_step_model, num_generate=100):\n",
        "    seed_ids = ids_from_words(tf.strings.split(seed_text))\n",
        "    generated_poem = seed_text + '\\n'\n",
        "    states = None\n",
        "    next_input = seed_ids\n",
        "    word_count = 0\n",
        "    line_length = 5\n",
        "    num_lines = 5\n",
        "    num_stanzas = 4\n",
        "\n",
        "    for _ in range(num_generate):\n",
        "        next_word, states = one_step_model.generate_one_step(next_input, states=states)\n",
        "        next_word = next_word.numpy()[0].decode('utf-8')\n",
        "        generated_poem += ' ' + next_word\n",
        "        word_count += 1\n",
        "\n",
        "        if word_count % line_length == 0:\n",
        "            generated_poem += '\\n'\n",
        "\n",
        "        if word_count % (line_length * num_lines) == 0:\n",
        "            generated_poem += '\\n'\n",
        "\n",
        "        next_input = tf.expand_dims(ids_from_words(tf.constant(next_word)), 0)\n",
        "\n",
        "    print(generated_poem)\n",
        "\n",
        "# Generate and plot text\n",
        "one_step_model = OneStep(model, ids_to_words, ids_from_words, temperature=1.2)\n",
        "seed_text = \"به نام خداوند جان و خرد\"\n",
        "plot_generated_text(seed_text, one_step_model)"
      ],
      "metadata": {
        "colab": {
          "base_uri": "https://localhost:8080/"
        },
        "id": "6B1I-h69LLSF",
        "outputId": "0f1cdf16-a7e0-41af-942c-005fc297db31"
      },
      "execution_count": 15,
      "outputs": [
        {
          "output_type": "stream",
          "name": "stdout",
          "text": [
            "به نام خداوند جان و خرد\n",
            " که این روشن گیتی به\n",
            " سوگند پیمان بود جهان به\n",
            " ایوان بدانگه بران تاج بر\n",
            " تخت نیز به درگاه کرد\n",
            " آن جهاندار شاه بدان جشن\n",
            "\n",
            " و این جشن و آن\n",
            " کار باز ز کار جهان\n",
            " بخت گردد دراز به ژرفی\n",
            " چنین داد تا تخت من\n",
            " شدی خسرو برآمد ز ایران\n",
            "\n",
            " خروش که ای ای سپاس\n",
            " تو این پیر شاه سزد\n",
            " گر بر تخت فرخنده باد\n",
            " تو این و خرد نیست\n",
            " با شاه پیش سپه من\n",
            "\n",
            " به آیین و راه دراز\n",
            " چو در جنگ لشکر به\n",
            " خسرو سپرد دگر آنک گفتی\n",
            " که چشم نباشد خرد را\n",
            " دلش ننگ و ایرانیان را\n",
            "\n",
            "\n"
          ]
        }
      ]
    },
    {
      "cell_type": "markdown",
      "source": [
        "**Generating text and testing our model**"
      ],
      "metadata": {
        "id": "-VgPcwb3JoIy"
      }
    },
    {
      "cell_type": "code",
      "source": [
        "# Define a class for generating text\n",
        "class OneStep(tf.keras.Model):\n",
        "    def __init__(self, model, ids_to_words, ids_from_words, temperature=1.0):\n",
        "        super(OneStep, self).__init__()\n",
        "        self.temperature = temperature\n",
        "        self.model = model\n",
        "        self.ids_to_words = ids_to_words\n",
        "        self.ids_from_words = ids_from_words\n",
        "        self.vocab_size = ids_from_words.vocabulary_size()\n",
        "\n",
        "    @tf.function\n",
        "    def generate_one_step(self, inputs, states=None):\n",
        "        # Expand dims to match the expected shape: (batch_size, sequence_length)\n",
        "        inputs = tf.expand_dims(inputs, 0)  # from (sequence_length,) to (1, sequence_length)\n",
        "\n",
        "        predicted_logits, states = self.model(inputs, states=states, return_state=True)\n",
        "        predicted_logits = predicted_logits[:, -1, :]  # get the last time step's output\n",
        "        predicted_logits = predicted_logits / self.temperature\n",
        "\n",
        "        predicted_ids = tf.random.categorical(predicted_logits, num_samples=1)\n",
        "        predicted_ids = tf.squeeze(predicted_ids, axis=-1)\n",
        "\n",
        "        predicted_words = self.ids_to_words(predicted_ids)\n",
        "        return predicted_words, states\n",
        "\n",
        "# Generate text\n",
        "one_step_model = OneStep(model, ids_to_words, ids_from_words, temperature=1.2)  # Adjust temperature\n",
        "\n",
        "# Start seed text\n",
        "seed_text = \"به نام خداوند جان و خرد\"\n",
        "seed_ids = ids_from_words(tf.strings.split(seed_text))\n",
        "\n",
        "# Number of words to generate\n",
        "num_generate = 100\n",
        "\n",
        "# Poem structure parameters\n",
        "line_length = 5  # Number of words per line\n",
        "num_lines = 5    # Number of lines per stanza\n",
        "num_stanzas = 4  # Number of stanzas\n",
        "\n",
        "# Generate the poem\n",
        "generated_poem = seed_text\n",
        "generated_poem += '\\n'  # Start a new line after the seed text\n",
        "\n",
        "states = None\n",
        "next_input = seed_ids\n",
        "word_count = 0\n",
        "\n",
        "for _ in range(num_generate):\n",
        "    next_word, states = one_step_model.generate_one_step(next_input, states=states)\n",
        "    next_word = next_word.numpy()[0].decode('utf-8')  # Convert to string\n",
        "    generated_poem += ' ' + next_word\n",
        "    word_count += 1\n",
        "\n",
        "    # Insert a line break after every `line_length` words\n",
        "    if word_count % line_length == 0:\n",
        "        generated_poem += '\\n'\n",
        "\n",
        "    # Insert a stanza break after every `num_lines` lines\n",
        "    if word_count % (line_length * num_lines) == 0:\n",
        "        generated_poem += '\\n'\n",
        "\n",
        "    next_input = tf.expand_dims(ids_from_words(tf.constant(next_word)), 0)\n",
        "\n",
        "print(generated_poem)"
      ],
      "metadata": {
        "colab": {
          "base_uri": "https://localhost:8080/"
        },
        "id": "kK1gmrHGDPnF",
        "outputId": "58432558-9bd9-43cd-d1d1-9f5c74507eec"
      },
      "execution_count": 16,
      "outputs": [
        {
          "output_type": "stream",
          "name": "stdout",
          "text": [
            "به نام خداوند جان و خرد\n",
            " آتش بران خویش بر وی\n",
            " بگشت جهانی بران آرزو بر\n",
            " پدر فرستاد موبد به ایوان\n",
            " خویش که دارد به گیتی\n",
            " ورا خویش و خط نگه\n",
            "\n",
            " کن بدین با شما که\n",
            " نیرو بود زین جهان خویش\n",
            " بر زین کزو بد مکن\n",
            " بر تو پاداش بد بدو\n",
            " گفت خوانی که فرزند خویش\n",
            "\n",
            " به بر زین نپیچد ورا\n",
            " باد پای که بر زین\n",
            " به ایران و نیران منم\n",
            " ز زین تا شود زان\n",
            " پس که ای شه به\n",
            "\n",
            " رنج تو بر تخت بر\n",
            " تخت زرین نهاد به دل\n",
            " بر سر انجمن آوری نیست\n",
            " اگر مرگ بد برو بر\n",
            " به تخت برادر به رنج\n",
            "\n",
            "\n"
          ]
        }
      ]
    }
  ]
}