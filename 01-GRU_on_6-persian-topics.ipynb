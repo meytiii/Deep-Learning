{
  "cells": [
    {
      "cell_type": "code",
      "execution_count": 11,
      "metadata": {
        "colab": {
          "base_uri": "https://localhost:8080/"
        },
        "id": "qlLNJmQ9et-m",
        "outputId": "d0f249f8-8009-45c7-d789-1bcfd3bb42f9"
      },
      "outputs": [
        {
          "output_type": "stream",
          "name": "stdout",
          "text": [
            "--2024-04-27 17:01:10--  https://raw.githubusercontent.com/meytiii/Deep-Learning/main/datasets/6-persian-topics.zip\n",
            "Resolving raw.githubusercontent.com (raw.githubusercontent.com)... 185.199.108.133, 185.199.109.133, 185.199.110.133, ...\n",
            "Connecting to raw.githubusercontent.com (raw.githubusercontent.com)|185.199.108.133|:443... connected.\n",
            "HTTP request sent, awaiting response... 200 OK\n",
            "Length: 16473431 (16M) [application/zip]\n",
            "Saving to: ‘6-persian-topics.zip.1’\n",
            "\n",
            "\r6-persian-topics.zi   0%[                    ]       0  --.-KB/s               \r6-persian-topics.zi 100%[===================>]  15.71M  --.-KB/s    in 0.09s   \n",
            "\n",
            "2024-04-27 17:01:11 (167 MB/s) - ‘6-persian-topics.zip.1’ saved [16473431/16473431]\n",
            "\n"
          ]
        }
      ],
      "source": [
        "!wget https://raw.githubusercontent.com/meytiii/Deep-Learning/main/datasets/6-persian-topics.zip"
      ]
    },
    {
      "cell_type": "markdown",
      "metadata": {
        "id": "c3ym5yYafKh8"
      },
      "source": [
        "**Extracting the ZipFile.**"
      ]
    },
    {
      "cell_type": "code",
      "execution_count": 12,
      "metadata": {
        "id": "nXh8kXEwfNB3"
      },
      "outputs": [],
      "source": [
        "import zipfile\n",
        "import os"
      ]
    },
    {
      "cell_type": "code",
      "execution_count": 13,
      "metadata": {
        "id": "dFrEIMW3fQJh"
      },
      "outputs": [],
      "source": [
        "zip_path = '/content/6-persian-topics.zip'\n",
        "extracting_dir = '/content/'\n",
        "os.makedirs(extracting_dir, exist_ok=True)\n",
        "with zipfile.ZipFile(zip_path, 'r') as zip_ref:\n",
        "    zip_ref.extractall(extracting_dir)\n",
        "extracted_files = os.listdir(extracting_dir)"
      ]
    },
    {
      "cell_type": "markdown",
      "source": [
        "**Loading the required libraries.**"
      ],
      "metadata": {
        "id": "ulhl_mryiHVF"
      }
    },
    {
      "cell_type": "code",
      "execution_count": 14,
      "metadata": {
        "id": "ydUGheP85YNM"
      },
      "outputs": [],
      "source": [
        "import numpy as np\n",
        "from sklearn.model_selection import train_test_split\n",
        "from sklearn.feature_extraction.text import TfidfVectorizer\n",
        "from tensorflow.keras.preprocessing.text import Tokenizer\n",
        "from tensorflow.keras.preprocessing.sequence import pad_sequences\n",
        "from tensorflow.keras.models import Sequential\n",
        "from tensorflow.keras.layers import Embedding, GRU, Dense"
      ]
    },
    {
      "cell_type": "markdown",
      "source": [
        "**Label each file to the according category**"
      ],
      "metadata": {
        "id": "KkmgGpqNiBdD"
      }
    },
    {
      "cell_type": "code",
      "execution_count": 15,
      "metadata": {
        "id": "t36bPNDu5gmR"
      },
      "outputs": [],
      "source": [
        "data = []\n",
        "labels = []\n",
        "categories = os.listdir(\"/content/6-persian-topics\")\n",
        "\n",
        "for category in categories:\n",
        "    files = os.listdir(os.path.join(\"/content/6-persian-topics\", category))\n",
        "    for file in files:\n",
        "        with open(os.path.join(\"/content/6-persian-topics\", category, file), \"r\", encoding=\"utf-8\") as f:\n",
        "            text = f.read()\n",
        "            data.append(text)\n",
        "            labels.append(category)"
      ]
    },
    {
      "cell_type": "markdown",
      "source": [
        "**All the texts are now in one list with each category sticked to them.**"
      ],
      "metadata": {
        "id": "jQ9e_nWOiurR"
      }
    },
    {
      "cell_type": "code",
      "source": [
        "categories"
      ],
      "metadata": {
        "colab": {
          "base_uri": "https://localhost:8080/"
        },
        "id": "cwh25fiQf4oX",
        "outputId": "bd75aa0a-c37d-4f61-9465-df478f98f05c"
      },
      "execution_count": 16,
      "outputs": [
        {
          "output_type": "execute_result",
          "data": {
            "text/plain": [
              "['بهداشت و سلامت',\n",
              " 'ورزش',\n",
              " 'ریاضیات',\n",
              " 'دین و اعتقاد',\n",
              " 'جغرافیا و مکانها',\n",
              " 'فناوری و علوم کاربردی و تکنولوژی']"
            ]
          },
          "metadata": {},
          "execution_count": 16
        }
      ]
    },
    {
      "cell_type": "markdown",
      "metadata": {
        "id": "Q_ybyo6a54Ht"
      },
      "source": [
        "**Split the data**"
      ]
    },
    {
      "cell_type": "code",
      "execution_count": 17,
      "metadata": {
        "id": "sefR1mvJ53uR"
      },
      "outputs": [],
      "source": [
        "X_train, X_test, y_train, y_test = train_test_split(data, labels, test_size=0.2, random_state=42)"
      ]
    },
    {
      "cell_type": "markdown",
      "metadata": {
        "id": "gYzkWkCl5-83"
      },
      "source": [
        "**Vectorize the text**"
      ]
    },
    {
      "cell_type": "code",
      "execution_count": 18,
      "metadata": {
        "id": "xHJ605N66Aq-"
      },
      "outputs": [],
      "source": [
        "tokenizer = Tokenizer()\n",
        "tokenizer.fit_on_texts(X_train)\n",
        "\n",
        "X_train_sequences = tokenizer.texts_to_sequences(X_train)\n",
        "X_test_sequences = tokenizer.texts_to_sequences(X_test)\n",
        "\n",
        "max_sequence_length = max(len(sequence) for sequence in X_train_sequences)\n",
        "X_train_padded = pad_sequences(X_train_sequences, maxlen=max_sequence_length)\n",
        "X_test_padded = pad_sequences(X_test_sequences, maxlen=max_sequence_length)"
      ]
    },
    {
      "cell_type": "code",
      "execution_count": 19,
      "metadata": {
        "id": "NdiPu07c9HM3"
      },
      "outputs": [],
      "source": [
        "from sklearn.preprocessing import LabelEncoder\n",
        "\n",
        "label_encoder = LabelEncoder()\n",
        "y_train_encoded = label_encoder.fit_transform(y_train)\n",
        "y_test_encoded = label_encoder.transform(y_test)"
      ]
    },
    {
      "cell_type": "markdown",
      "metadata": {
        "id": "nH5N8FXv6GYm"
      },
      "source": [
        "**Define and Train the model**"
      ]
    },
    {
      "cell_type": "code",
      "execution_count": 20,
      "metadata": {
        "colab": {
          "base_uri": "https://localhost:8080/"
        },
        "id": "8JDw78sT6JIi",
        "outputId": "024f7822-79c4-4327-ed8c-0d3d98dbf9fe"
      },
      "outputs": [
        {
          "output_type": "stream",
          "name": "stdout",
          "text": [
            "Epoch 1/10\n",
            "940/940 [==============================] - 79s 82ms/step - loss: 0.2831 - accuracy: 0.9077 - val_loss: 0.1283 - val_accuracy: 0.9613\n",
            "Epoch 2/10\n",
            "940/940 [==============================] - 33s 35ms/step - loss: 0.0581 - accuracy: 0.9807 - val_loss: 0.1114 - val_accuracy: 0.9670\n",
            "Epoch 3/10\n",
            "940/940 [==============================] - 29s 30ms/step - loss: 0.0213 - accuracy: 0.9939 - val_loss: 0.1110 - val_accuracy: 0.9710\n",
            "Epoch 4/10\n",
            "940/940 [==============================] - 28s 30ms/step - loss: 0.0090 - accuracy: 0.9972 - val_loss: 0.1070 - val_accuracy: 0.9746\n",
            "Epoch 5/10\n",
            "940/940 [==============================] - 25s 27ms/step - loss: 0.0081 - accuracy: 0.9978 - val_loss: 0.1109 - val_accuracy: 0.9722\n",
            "Epoch 6/10\n",
            "940/940 [==============================] - 26s 27ms/step - loss: 0.0062 - accuracy: 0.9982 - val_loss: 0.1112 - val_accuracy: 0.9749\n",
            "Epoch 7/10\n",
            "940/940 [==============================] - 26s 27ms/step - loss: 0.0050 - accuracy: 0.9986 - val_loss: 0.1332 - val_accuracy: 0.9726\n",
            "Epoch 8/10\n",
            "940/940 [==============================] - 24s 26ms/step - loss: 0.0082 - accuracy: 0.9980 - val_loss: 0.1197 - val_accuracy: 0.9750\n",
            "Epoch 9/10\n",
            "940/940 [==============================] - 25s 27ms/step - loss: 0.0046 - accuracy: 0.9987 - val_loss: 0.1113 - val_accuracy: 0.9763\n",
            "Epoch 10/10\n",
            "940/940 [==============================] - 24s 26ms/step - loss: 0.0042 - accuracy: 0.9987 - val_loss: 0.1201 - val_accuracy: 0.9767\n"
          ]
        },
        {
          "output_type": "execute_result",
          "data": {
            "text/plain": [
              "<keras.src.callbacks.History at 0x7a1f86b238b0>"
            ]
          },
          "metadata": {},
          "execution_count": 20
        }
      ],
      "source": [
        "model = Sequential([\n",
        "    Embedding(input_dim=len(tokenizer.word_index) + 1, output_dim=100, input_length=max_sequence_length),\n",
        "    GRU(128),\n",
        "    Dense(len(categories), activation='softmax')\n",
        "])\n",
        "\n",
        "model.compile(optimizer='adam', loss='sparse_categorical_crossentropy', metrics=['accuracy'])\n",
        "model.fit(X_train_padded, y_train_encoded, epochs=10, batch_size=32, validation_data=(X_test_padded, y_test_encoded))"
      ]
    },
    {
      "cell_type": "markdown",
      "metadata": {
        "id": "vOraQmSJ6ONc"
      },
      "source": [
        "**Evaluate the model**"
      ]
    },
    {
      "cell_type": "markdown",
      "source": [
        "Fit and transform labels in testing set"
      ],
      "metadata": {
        "id": "DR68SUoke3iU"
      }
    },
    {
      "cell_type": "code",
      "source": [
        "y_test_encoded = label_encoder.fit_transform(y_test)"
      ],
      "metadata": {
        "id": "HJahezXwe5g6"
      },
      "execution_count": 21,
      "outputs": []
    },
    {
      "cell_type": "markdown",
      "source": [
        "Evaluate the model with the encoded labels"
      ],
      "metadata": {
        "id": "DdvhE7nNe7DF"
      }
    },
    {
      "cell_type": "code",
      "source": [
        "loss, accuracy = model.evaluate(X_test_padded, y_test_encoded)"
      ],
      "metadata": {
        "colab": {
          "base_uri": "https://localhost:8080/"
        },
        "id": "xcNqFtqoe9Pp",
        "outputId": "d9b80f18-228f-4eb5-b123-94ec9c45b048"
      },
      "execution_count": 22,
      "outputs": [
        {
          "output_type": "stream",
          "name": "stdout",
          "text": [
            "235/235 [==============================] - 3s 12ms/step - loss: 0.1201 - accuracy: 0.9767\n",
            "Test Accuracy: 0.976713240146637\n"
          ]
        }
      ]
    },
    {
      "cell_type": "markdown",
      "source": [
        "**Let's see the accuracy :**"
      ],
      "metadata": {
        "id": "RjS-rLAbipm0"
      }
    },
    {
      "cell_type": "code",
      "source": [
        "accuracy"
      ],
      "metadata": {
        "colab": {
          "base_uri": "https://localhost:8080/"
        },
        "id": "nFJtbv3_hvT0",
        "outputId": "ecace9db-a206-4388-c0b4-addbb52e1f4b"
      },
      "execution_count": 26,
      "outputs": [
        {
          "output_type": "execute_result",
          "data": {
            "text/plain": [
              "0.976713240146637"
            ]
          },
          "metadata": {},
          "execution_count": 26
        }
      ]
    },
    {
      "cell_type": "markdown",
      "source": [
        "**An example of correct prediction :**"
      ],
      "metadata": {
        "id": "CRncfUD3hRNM"
      }
    },
    {
      "cell_type": "code",
      "source": [
        "random_example = \"قضیه شارکوفسکی در ریاضیات سامانه پویا در سیستم گسسته مطرح شده است. الکساندر شارکوفسکی این قضیه را در سال ۱۹۶۴ ارائه و اثبات کرد.\"\n",
        "random_example_sequence = tokenizer.texts_to_sequences([random_example])\n",
        "random_example_padded = pad_sequences(random_example_sequence, maxlen=max_sequence_length)\n",
        "predictions = model.predict(random_example_padded)\n",
        "predicted_topic_index = np.argmax(predictions)\n",
        "predicted_topic = categories[predicted_topic_index]\n",
        "\n",
        "print(random_example)\n",
        "print(\"Predicted Topic:\", predicted_topic)"
      ],
      "metadata": {
        "colab": {
          "base_uri": "https://localhost:8080/"
        },
        "id": "1l1YsOAlgzQW",
        "outputId": "4bf156a4-6a46-4b5a-867b-f0ff333436a2"
      },
      "execution_count": 29,
      "outputs": [
        {
          "output_type": "stream",
          "name": "stdout",
          "text": [
            "1/1 [==============================] - 0s 23ms/step\n",
            "قضیه شارکوفسکی در ریاضیات سامانه پویا در سیستم گسسته مطرح شده است. الکساندر شارکوفسکی این قضیه را در سال ۱۹۶۴ ارائه و اثبات کرد.\n",
            "Predicted Topic: دین و اعتقاد\n"
          ]
        }
      ]
    },
    {
      "cell_type": "markdown",
      "source": [
        "**An example of incorrect prediction :**"
      ],
      "metadata": {
        "id": "8SQahr9uhVDA"
      }
    },
    {
      "cell_type": "code",
      "source": [
        "random_example = \"تک‌سرشت‌باوری (به انگلیسی: Monophysitism) موقعیتی در مسیح‌شناسی است که در آن پس از یگانه شدن سرشت خدا و انسان، عیسی مسیح به عنوان تجسم پسر یا کلمه خدا، تنها یک ذات یا طبیعت دارد که الهی است. تک‌سرشت‌باوری با دوسرشت‌باوری در تضاد است که معتقد است مسیح دارای دو سرشت، یکی الهی و یکی انسانی است.\"\n",
        "random_example_sequence = tokenizer.texts_to_sequences([random_example])\n",
        "random_example_padded = pad_sequences(random_example_sequence, maxlen=max_sequence_length)\n",
        "predictions = model.predict(random_example_padded)\n",
        "predicted_topic_index = np.argmax(predictions)\n",
        "predicted_topic = categories[predicted_topic_index]\n",
        "\n",
        "print(random_example)\n",
        "print(\"Predicted Topic:\", predicted_topic)"
      ],
      "metadata": {
        "colab": {
          "base_uri": "https://localhost:8080/"
        },
        "id": "maFdUfWVhUnS",
        "outputId": "773c7869-42ad-4e6a-8a60-eaf8866170e7"
      },
      "execution_count": 30,
      "outputs": [
        {
          "output_type": "stream",
          "name": "stdout",
          "text": [
            "1/1 [==============================] - 0s 25ms/step\n",
            "تک‌سرشت‌باوری (به انگلیسی: Monophysitism) موقعیتی در مسیح‌شناسی است که در آن پس از یگانه شدن سرشت خدا و انسان، عیسی مسیح به عنوان تجسم پسر یا کلمه خدا، تنها یک ذات یا طبیعت دارد که الهی است. تک‌سرشت‌باوری با دوسرشت‌باوری در تضاد است که معتقد است مسیح دارای دو سرشت، یکی الهی و یکی انسانی است.\n",
            "Predicted Topic: ریاضیات\n"
          ]
        }
      ]
    }
  ],
  "metadata": {
    "colab": {
      "provenance": [],
      "gpuType": "T4"
    },
    "kernelspec": {
      "display_name": "Python 3",
      "name": "python3"
    },
    "language_info": {
      "name": "python"
    },
    "accelerator": "GPU"
  },
  "nbformat": 4,
  "nbformat_minor": 0
}